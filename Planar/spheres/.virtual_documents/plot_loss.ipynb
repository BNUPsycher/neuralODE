using CairoMakie, CSV, DataFrames, Pipe, StatsKit


all_csv = [i for i in readdir() if occursin(".csv", i)]
all_df = [CSV.read(j, DataFrame, header=true) for j in all_csv]
long_df = outerjoin(all_df..., on=intersect([names(j) for j in all_df]...))
@pipe long_df |> select(_,[:itr,:loss]) |> sort(_,:itr) |> lines(eachcol(_)...)
ax = current_axis()
# xlims!(ax, 000,12000)
ylims!(ax, 1,3)
current_figure()


@pipe ceil.(long_df[:,:itr] / 100) |> 
    trunc.(Int64,_) |> 
    DataFrame(itr=long_df[:,:itr],index = _) |> 
    innerjoin(_, long_df, on=:itr) |> groupby(_,:index)  |> 
    combine(_, :loss => mean) |> lines(eachcol(_)...)



@pipe long_df |> filter(:itr => x -> x%100==1, _) |> sort(_, :loss)


print(size(long_df))


@pipe long_df |> sort(_, :loss) |> first(_,10)
