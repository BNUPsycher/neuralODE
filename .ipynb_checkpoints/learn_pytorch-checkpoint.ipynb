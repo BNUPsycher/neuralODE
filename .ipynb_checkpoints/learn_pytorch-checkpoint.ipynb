{
 "cells": [
  {
   "cell_type": "code",
   "execution_count": 9,
   "id": "initial_id",
   "metadata": {},
   "outputs": [],
   "source": [
    "import torch\n",
    "from torch import nn, optim, tensor, Tensor\n",
    "from torchdiffeq import odeint, odeint_adjoint"
   ]
  },
  {
   "cell_type": "code",
   "execution_count": 10,
   "id": "f1e3daee-f18b-4527-923f-9eb0edd08590",
   "metadata": {},
   "outputs": [],
   "source": [
    "class torch_sin(nn.Module):\n",
    "    def __init__(self):\n",
    "        super(torch_sin,self).__init__()\n",
    "\n",
    "    def forward(self, t, y):\n",
    "        return torch.sin(y)"
   ]
  },
  {
   "cell_type": "code",
   "execution_count": 11,
   "id": "d24b38d5-214c-441a-be63-c813b2afb8a1",
   "metadata": {},
   "outputs": [],
   "source": [
    "ode_f = torch_sin()"
   ]
  },
  {
   "cell_type": "code",
   "execution_count": 14,
   "id": "a206e05b-7ec1-416c-abfa-7afaa91b40c9",
   "metadata": {},
   "outputs": [
    {
     "data": {
      "text/plain": [
       "tensor([0.8415])"
      ]
     },
     "execution_count": 14,
     "metadata": {},
     "output_type": "execute_result"
    }
   ],
   "source": [
    "t = Tensor([0,1,2])\n",
    "y = Tensor([1])\n",
    "\n",
    "ode_f(t,y)"
   ]
  },
  {
   "cell_type": "code",
   "execution_count": 17,
   "id": "3732089e-f84f-4967-bff3-3843bbd2f01c",
   "metadata": {},
   "outputs": [
    {
     "data": {
      "text/plain": [
       "tensor([[1.0000],\n",
       "        [1.9563],\n",
       "        [2.6559]])"
      ]
     },
     "execution_count": 17,
     "metadata": {},
     "output_type": "execute_result"
    }
   ],
   "source": [
    "odeint(ode_f, y,t)"
   ]
  }
 ],
 "metadata": {
  "kernelspec": {
   "display_name": "pytorch",
   "language": "python",
   "name": "pytorch"
  },
  "language_info": {
   "codemirror_mode": {
    "name": "ipython",
    "version": 3
   },
   "file_extension": ".py",
   "mimetype": "text/x-python",
   "name": "python",
   "nbconvert_exporter": "python",
   "pygments_lexer": "ipython3",
   "version": "3.12.2"
  }
 },
 "nbformat": 4,
 "nbformat_minor": 5
}
