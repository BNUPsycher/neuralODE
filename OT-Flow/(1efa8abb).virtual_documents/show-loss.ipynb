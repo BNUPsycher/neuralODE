using CairoMakie, CSV, DataFrames, Pipe, StatsKit


all_csv = [i for i in readdir("./gaussians") if occursin("csv", i)]
all_df = [CSV.read(joinpath("./gaussians", csv), DataFrame) for csv in all_csv];
long_df = outerjoin(all_df..., on=[:Column1,:itr, :loss]);



@pipe outerjoin(all_df..., on=[:Column1,:itr, :loss]) |> 
    sort(_, :itr) |> 
    select(_,[:itr, :loss]) |> 
    # filter(:itr => ,_) |>
    lines(eachcol(_)...)


xlims!(current_axis(), 5000, 12000)
ylims!(current_axis(), 1, 2)

current_figure()




all_csv = [i for i in readdir("./moons") if occursin("csv", i)]
all_df = [CSV.read(joinpath("./moons", csv), DataFrame) for csv in all_csv];
long_df = outerjoin(all_df..., on=[:Column1,:itr, :loss]);



@pipe long_df |> 
    sort(_, :itr) |> 
    select(_,[:itr, :loss]) |> 
    # filter(:itr => ,_) |>
    lines(eachcol(_)...)


# xlims!(current_axis(), 1000, 12000)
ylims!(current_axis(), 0,3)

current_figure()



println(size(long_df)[1])
@pipe long_df |> 
    sort(_, :loss) |>
    first(_,10) |> 
    print(_)





long_df[!,:group] = @pipe long_df |>
    select(_, [:itr, :loss]) |>
    trunc.(Int64, _[:,:itr] .÷ 100)

@pipe groupby(long_df, :group) |> combine(_, :loss=>mean) |>
    lines(eachcol(_)...)


ylims!(current_axis(), 0,5)
current_figure()


all_csv = [i for i in readdir("./spheres") if occursin("csv", i)]
all_df = [CSV.read(joinpath("./spheres", csv), DataFrame) for csv in all_csv];
long_df = outerjoin(all_df..., on=[:Column1,:itr, :loss]);


@pipe long_df |> 
    sort(_, :itr) |> 
    select(_,[:itr, :loss]) |> 
    # filter(:itr => ,_) |>
    lines(eachcol(_)...)


# xlims!(current_axis(), 1000, 12000)
ylims!(current_axis(), 0,5)

current_figure()


println(size(long_df)[1])
@pipe long_df |> 
    sort(_, :loss) |>
    first(_,10) |> 
    print(_)



long_df[!,:group] = @pipe long_df |>
    select(_, [:itr, :loss]) |>
    trunc.(Int64, _[:,:itr] .÷ 100)

@pipe groupby(long_df, :group) |> combine(_, :loss=>mean) |>
    lines(eachcol(_)...)


ylims!(current_axis(), 0,5)
current_figure()
