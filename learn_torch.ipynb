{
 "cells": [
  {
   "cell_type": "code",
   "execution_count": 1,
   "id": "d20c2cfd-affb-4c16-88c1-2f2cd535398b",
   "metadata": {},
   "outputs": [],
   "source": [
    "import torch\n",
    "from torch import nn, optim, tensor, Tensor\n",
    "from torchdiffeq import odeint, odeint_adjoint"
   ]
  },
  {
   "cell_type": "code",
   "execution_count": 25,
   "id": "a38a8082-8db2-403d-8dd3-447e038d5027",
   "metadata": {},
   "outputs": [
    {
     "name": "stdout",
     "output_type": "stream",
     "text": [
      "torch.Size([2, 2])\n",
      "torch.Size([2, 6])\n"
     ]
    }
   ],
   "source": [
    "a = Tensor([1,2,3])\n",
    "b = torch.stack([a,a], dim=-1)\n",
    "c = torch.stack([b,b], dim=0)\n",
    "h = nn.Linear(2,4)(c[:,0,:])\n",
    "\n",
    "\n",
    "\n",
    "print(c[:,0,:].size())\n",
    "print(torch.cat((c[:,1,:], h), dim=1).size())"
   ]
  },
  {
   "cell_type": "code",
   "execution_count": null,
   "id": "b30d52a2-a23f-4a05-bbd6-1b9d3884140f",
   "metadata": {},
   "outputs": [],
   "source": []
  }
 ],
 "metadata": {
  "kernelspec": {
   "display_name": "pytorch",
   "language": "python",
   "name": "pytorch"
  },
  "language_info": {
   "codemirror_mode": {
    "name": "ipython",
    "version": 3
   },
   "file_extension": ".py",
   "mimetype": "text/x-python",
   "name": "python",
   "nbconvert_exporter": "python",
   "pygments_lexer": "ipython3",
   "version": "3.12.2"
  }
 },
 "nbformat": 4,
 "nbformat_minor": 5
}
