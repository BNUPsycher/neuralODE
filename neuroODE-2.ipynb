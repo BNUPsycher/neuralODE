{
 "cells": [
  {
   "cell_type": "code",
   "execution_count": 1,
   "metadata": {
    "id": "zf5--b3u_pZ_"
   },
   "outputs": [],
   "source": [
    "# !pip3 uninstall --yes torch torchaudio torchvision torchtext torchdata --quiet\n",
    "# !pip3 install torch torchaudio torchvision torchtext torchdata --quiet\n",
    "# !pip install torchdiffeq --quiet"
   ]
  },
  {
   "cell_type": "code",
   "execution_count": 3,
   "metadata": {
    "id": "B4ii08vi4A-a"
   },
   "outputs": [],
   "source": [
    "import torch\n",
    "from torch import nn, optim, Tensor, tensor\n",
    "import torchdiffeq as tdf\n",
    "import matplotlib.pyplot as plt\n",
    "import numpy as np\n",
    "import progressbar\n",
    "from IPython.display import clear_output"
   ]
  },
  {
   "cell_type": "code",
   "execution_count": 4,
   "metadata": {
    "id": "L29FJQrC-A7k"
   },
   "outputs": [],
   "source": [
    "# device = \"cuda\" if torch.cuda.is_available() else \"cpu\"\n",
    "device = 'cpu'\n",
    "seed = 2024\n",
    "torch.manual_seed(seed)\n",
    "torch.cuda.manual_seed(seed)\n",
    "np.random.seed(seed)"
   ]
  },
  {
   "cell_type": "markdown",
   "metadata": {
    "id": "kUHa-D_E-j_Q"
   },
   "source": [
    "## Logistic Function\n",
    "> The dynamical equation we want to learn is:\n",
    "\n",
    "$$\n",
    "\\dot{y} = r\\left(1-\\frac{y}{K}\\right)y\n",
    "$$\n",
    "where:\n",
    "- $y$ is the population size.\n",
    "- $r$ is the growth rate.\n",
    "- $K$ is the capacity of environment.\n",
    "\n",
    "## ODEFunc\n",
    "> The MLP consists of 3 layer, each activation function is `Tanh()`,\n",
    "\n",
    "\n",
    "\n"
   ]
  },
  {
   "cell_type": "code",
   "execution_count": 5,
   "metadata": {
    "colab": {
     "base_uri": "https://localhost:8080/",
     "height": 447
    },
    "id": "zMxL06Tm36hS",
    "outputId": "9c72c85e-4464-409f-a419-c41817cfb031"
   },
   "outputs": [
    {
     "data": {
      "text/plain": [
       "[<matplotlib.lines.Line2D at 0x30cfbd850>]"
      ]
     },
     "execution_count": 5,
     "metadata": {},
     "output_type": "execute_result"
    },
    {
     "data": {
      "image/png": "[encoded data removed]",
      "text/plain": [
       "<Figure size 640x480 with 1 Axes>"
      ]
     },
     "metadata": {},
     "output_type": "display_data"
    }
   ],
   "source": [
    "t = torch.linspace(0,15,1500).to(device)\n",
    "\n",
    "class growth_model(nn.Module):\n",
    "  def __init__(self, *args):\n",
    "    super(growth_model, self).__init__()\n",
    "    self.K, self.r = args\n",
    "\n",
    "  def forward(self, t, y):\n",
    "    return self.r * y * (1 - y/self.K)\n",
    "\n",
    "\n",
    "true_y0 = torch.Tensor([0.001]).to(device)\n",
    "true_model = growth_model(100, 1.5).to(device)\n",
    "with torch.no_grad():\n",
    "  true_y = tdf.odeint(true_model, true_y0, t)\n",
    "\n",
    "class ODEFunc(nn.Module):\n",
    "  def __init__(self):\n",
    "    super(ODEFunc, self).__init__()\n",
    "    self.net = nn.Sequential(\n",
    "        nn.Linear(1,50),\n",
    "        nn.Tanh(),\n",
    "        nn.Linear(50,50),\n",
    "        nn.Tanh(),\n",
    "        nn.Linear(50,1)\n",
    "    )\n",
    "    for m in self.net.modules():\n",
    "      if isinstance(m, nn.Linear):\n",
    "        nn.init.normal_(m.weight, 0, 1)\n",
    "        nn.init.constant_(m.bias, 0)\n",
    "\n",
    "  def forward(self, t, y):\n",
    "    return self.net(y)\n",
    "\n",
    "\n",
    "\n",
    "def get_batch(batch_time, batch_num,total_time=len(t)):\n",
    "  s = torch.from_numpy(np.random.choice(np.arange(total_time - batch_time), batch_num, replace=False))\n",
    "  batch_t = t[:batch_time]\n",
    "  batch_y0 = true_y[s]\n",
    "  batch_y = torch.stack([true_y[s+i] for i in range(batch_time)], dim=0)\n",
    "\n",
    "  return batch_t.to(device), batch_y0.to(device), batch_y.to(device)\n",
    "\n",
    "  # batch_y0 =\n",
    "\n",
    "plt.plot(t.cpu(), true_y.cpu())\n",
    "\n",
    "# np.choice(np.arange(1000), )"
   ]
  },
  {
   "cell_type": "code",
   "execution_count": 4,
   "metadata": {
    "id": "bu-1rY2G8dCN"
   },
   "outputs": [],
   "source": [
    "func = ODEFunc().to(device)\n",
    "\n",
    "def train_epoch(max_epoch, func,lr):\n",
    "  optimizer = optim.Adam(func.parameters(), lr=lr)\n",
    "  loss_list = []\n",
    "  \n",
    "  for epoch in progressbar.progressbar(range(max_epoch), redirect_stdout=True):\n",
    "    optimizer.zero_grad()\n",
    "    batch_t, batch_y0, batch_y = get_batch(20, 100)\n",
    "    pred_y = tdf.odeint_adjoint(func, batch_y0, batch_t)\n",
    "    loss = torch.mean(torch.abs(pred_y - batch_y))\n",
    "    loss.backward()\n",
    "    optimizer.step()\n",
    "    # bar.update(epoch)\n",
    "\n",
    "    if epoch % 100 == 0:\n",
    "    # # loss_list.append(loss.item())\n",
    "      print('epoch=',epoch,'\\t',loss.item())\n",
    "\n",
    "\n",
    "  return loss_list\n",
    "\n",
    "  # tdf.odeint_adjoint(func,get_batch(20, 100)[1], t)\n",
    "\n",
    "# loss_list = train_epoch(1000)"
   ]
  },
  {
   "cell_type": "code",
   "execution_count": 5,
   "metadata": {
    "colab": {
     "base_uri": "https://localhost:8080/"
    },
    "id": "Ygckp7HVKHyH",
    "outputId": "d676ced9-d95e-4a9e-f023-bfcd94e98738"
   },
   "outputs": [
    {
     "name": "stderr",
     "output_type": "stream",
     "text": [
      "\u001b[38;2;255;0;0m  0%\u001b[39m \u001b[38;2;255;0;0m(0 of 1500)\u001b[39m |                       | Elapsed Time: 0:00:00 ETA:  --:--:--"
     ]
    },
    {
     "name": "stdout",
     "output_type": "stream",
     "text": [
      "epoch= 0 \t 0.8322097659111023\n"
     ]
    },
    {
     "name": "stderr",
     "output_type": "stream",
     "text": [
      "\u001b[38;2;255;44;0m  6%\u001b[39m \u001b[38;2;255;44;0m(100 of 1500)\u001b[39m |#                    | Elapsed Time: 0:00:41 ETA:   0:09:36"
     ]
    },
    {
     "name": "stdout",
     "output_type": "stream",
     "text": [
      "epoch= 100 \t 0.5641283392906189\n"
     ]
    },
    {
     "name": "stderr",
     "output_type": "stream",
     "text": [
      "\u001b[38;2;255;92;0m 13%\u001b[39m \u001b[38;2;255;92;0m(200 of 1500)\u001b[39m |##                   | Elapsed Time: 0:01:34 ETA:   0:10:12"
     ]
    },
    {
     "name": "stdout",
     "output_type": "stream",
     "text": [
      "epoch= 200 \t 0.40663623809814453\n"
     ]
    },
    {
     "name": "stderr",
     "output_type": "stream",
     "text": [
      "\u001b[38;2;255;111;0m 20%\u001b[39m \u001b[38;2;255;111;0m(300 of 1500)\u001b[39m |####                 | Elapsed Time: 0:02:35 ETA:   0:10:23"
     ]
    },
    {
     "name": "stdout",
     "output_type": "stream",
     "text": [
      "epoch= 300 \t 0.31199541687965393\n"
     ]
    },
    {
     "name": "stderr",
     "output_type": "stream",
     "text": [
      "\u001b[38;2;255;129;0m 26%\u001b[39m \u001b[38;2;255;129;0m(400 of 1500)\u001b[39m |#####                | Elapsed Time: 0:03:51 ETA:   0:10:37"
     ]
    },
    {
     "name": "stdout",
     "output_type": "stream",
     "text": [
      "epoch= 400 \t 0.22934238612651825\n"
     ]
    },
    {
     "name": "stderr",
     "output_type": "stream",
     "text": [
      "\u001b[38;2;255;148;0m 33%\u001b[39m \u001b[38;2;255;148;0m(500 of 1500)\u001b[39m |#######              | Elapsed Time: 0:05:01 ETA:   0:10:03"
     ]
    },
    {
     "name": "stdout",
     "output_type": "stream",
     "text": [
      "epoch= 500 \t 0.17589928209781647\n"
     ]
    },
    {
     "name": "stderr",
     "output_type": "stream",
     "text": [
      "\u001b[38;2;255;167;0m 40%\u001b[39m \u001b[38;2;255;167;0m(600 of 1500)\u001b[39m |########             | Elapsed Time: 0:06:21 ETA:   0:09:32"
     ]
    },
    {
     "name": "stdout",
     "output_type": "stream",
     "text": [
      "epoch= 600 \t 0.07670974731445312\n"
     ]
    },
    {
     "name": "stderr",
     "output_type": "stream",
     "text": [
      "\u001b[38;2;255;196;0m 46%\u001b[39m \u001b[38;2;255;196;0m(700 of 1500)\u001b[39m |#########            | Elapsed Time: 0:07:38 ETA:   0:08:43"
     ]
    },
    {
     "name": "stdout",
     "output_type": "stream",
     "text": [
      "epoch= 700 \t 0.31731557846069336\n"
     ]
    },
    {
     "name": "stderr",
     "output_type": "stream",
     "text": [
      "\u001b[38;2;255;233;0m 53%\u001b[39m \u001b[38;2;255;233;0m(800 of 1500)\u001b[39m |###########          | Elapsed Time: 0:08:59 ETA:   0:07:51"
     ]
    },
    {
     "name": "stdout",
     "output_type": "stream",
     "text": [
      "epoch= 800 \t 0.18358798325061798\n"
     ]
    },
    {
     "name": "stderr",
     "output_type": "stream",
     "text": [
      "\u001b[38;2;247;255;0m 60%\u001b[39m \u001b[38;2;247;255;0m(900 of 1500)\u001b[39m |############         | Elapsed Time: 0:10:19 ETA:   0:06:53"
     ]
    },
    {
     "name": "stdout",
     "output_type": "stream",
     "text": [
      "epoch= 900 \t 0.1807364523410797\n"
     ]
    },
    {
     "name": "stderr",
     "output_type": "stream",
     "text": [
      "\u001b[38;2;228;255;0m 66%\u001b[39m \u001b[38;2;228;255;0m(1000 of 1500)\u001b[39m |#############       | Elapsed Time: 0:11:23 ETA:   0:05:41"
     ]
    },
    {
     "name": "stdout",
     "output_type": "stream",
     "text": [
      "epoch= 1000 \t 0.24680660665035248\n"
     ]
    },
    {
     "name": "stderr",
     "output_type": "stream",
     "text": [
      "\u001b[38;2;209;255;0m 73%\u001b[39m \u001b[38;2;209;255;0m(1100 of 1500)\u001b[39m |##############      | Elapsed Time: 0:11:54 ETA:   0:04:19"
     ]
    },
    {
     "name": "stdout",
     "output_type": "stream",
     "text": [
      "epoch= 1100 \t 0.10123871266841888\n"
     ]
    },
    {
     "name": "stderr",
     "output_type": "stream",
     "text": [
      "\u001b[38;2;190;255;0m 80%\u001b[39m \u001b[38;2;190;255;0m(1200 of 1500)\u001b[39m |################    | Elapsed Time: 0:12:26 ETA:   0:03:06"
     ]
    },
    {
     "name": "stdout",
     "output_type": "stream",
     "text": [
      "epoch= 1200 \t 0.07660622894763947\n"
     ]
    },
    {
     "name": "stderr",
     "output_type": "stream",
     "text": [
      "\u001b[38;2;172;255;0m 86%\u001b[39m \u001b[38;2;172;255;0m(1300 of 1500)\u001b[39m |#################   | Elapsed Time: 0:12:58 ETA:   0:01:59"
     ]
    },
    {
     "name": "stdout",
     "output_type": "stream",
     "text": [
      "epoch= 1300 \t 0.09781389683485031\n"
     ]
    },
    {
     "name": "stderr",
     "output_type": "stream",
     "text": [
      "\u001b[38;2;81;255;0m 93%\u001b[39m \u001b[38;2;81;255;0m(1400 of 1500)\u001b[39m |##################  | Elapsed Time: 0:13:29 ETA:   0:00:5711"
     ]
    },
    {
     "name": "stdout",
     "output_type": "stream",
     "text": [
      "epoch= 1400 \t 0.11645469069480896\n"
     ]
    },
    {
     "name": "stderr",
     "output_type": "stream",
     "text": [
      "\u001b[38;2;0;255;0m100%\u001b[39m \u001b[38;2;0;255;0m(1500 of 1500)\u001b[39m |####################| Elapsed Time: 0:14:00 Time:  0:14:0007\n",
      "\u001b[38;2;255;0;0m  0%\u001b[39m \u001b[38;2;255;0;0m(0 of 1500)\u001b[39m |                       | Elapsed Time: 0:00:00 ETA:  --:--:--"
     ]
    },
    {
     "name": "stdout",
     "output_type": "stream",
     "text": [
      "epoch= 0 \t 0.09130502492189407\n"
     ]
    },
    {
     "name": "stderr",
     "output_type": "stream",
     "text": [
      "\u001b[38;2;255;44;0m  6%\u001b[39m \u001b[38;2;255;44;0m(100 of 1500)\u001b[39m |#                    | Elapsed Time: 0:00:28 ETA:   0:06:37"
     ]
    },
    {
     "name": "stdout",
     "output_type": "stream",
     "text": [
      "epoch= 100 \t 0.02816120907664299\n"
     ]
    },
    {
     "name": "stderr",
     "output_type": "stream",
     "text": [
      "\u001b[38;2;255;92;0m 13%\u001b[39m \u001b[38;2;255;92;0m(200 of 1500)\u001b[39m |##                   | Elapsed Time: 0:00:56 ETA:   0:06:09"
     ]
    },
    {
     "name": "stdout",
     "output_type": "stream",
     "text": [
      "epoch= 200 \t 0.019473813474178314\n"
     ]
    },
    {
     "name": "stderr",
     "output_type": "stream",
     "text": [
      "\u001b[38;2;255;111;0m 20%\u001b[39m \u001b[38;2;255;111;0m(300 of 1500)\u001b[39m |####                 | Elapsed Time: 0:01:25 ETA:   0:05:41"
     ]
    },
    {
     "name": "stdout",
     "output_type": "stream",
     "text": [
      "epoch= 300 \t 0.014661337248980999\n"
     ]
    },
    {
     "name": "stderr",
     "output_type": "stream",
     "text": [
      "\u001b[38;2;255;129;0m 26%\u001b[39m \u001b[38;2;255;129;0m(400 of 1500)\u001b[39m |#####                | Elapsed Time: 0:01:53 ETA:   0:05:12"
     ]
    },
    {
     "name": "stdout",
     "output_type": "stream",
     "text": [
      "epoch= 400 \t 0.027113404124975204\n"
     ]
    },
    {
     "name": "stderr",
     "output_type": "stream",
     "text": [
      "\u001b[38;2;255;148;0m 33%\u001b[39m \u001b[38;2;255;148;0m(500 of 1500)\u001b[39m |#######              | Elapsed Time: 0:02:22 ETA:   0:04:45"
     ]
    },
    {
     "name": "stdout",
     "output_type": "stream",
     "text": [
      "epoch= 500 \t 0.01131935603916645\n"
     ]
    },
    {
     "name": "stderr",
     "output_type": "stream",
     "text": [
      "\u001b[38;2;255;167;0m 40%\u001b[39m \u001b[38;2;255;167;0m(600 of 1500)\u001b[39m |########             | Elapsed Time: 0:02:51 ETA:   0:04:17"
     ]
    },
    {
     "name": "stdout",
     "output_type": "stream",
     "text": [
      "epoch= 600 \t 0.00894320197403431\n"
     ]
    },
    {
     "name": "stderr",
     "output_type": "stream",
     "text": [
      "\u001b[38;2;255;196;0m 46%\u001b[39m \u001b[38;2;255;196;0m(700 of 1500)\u001b[39m |#########            | Elapsed Time: 0:03:20 ETA:   0:03:48"
     ]
    },
    {
     "name": "stdout",
     "output_type": "stream",
     "text": [
      "epoch= 700 \t 0.028327390551567078\n"
     ]
    },
    {
     "name": "stderr",
     "output_type": "stream",
     "text": [
      "\u001b[38;2;255;233;0m 53%\u001b[39m \u001b[38;2;255;233;0m(800 of 1500)\u001b[39m |###########          | Elapsed Time: 0:03:47 ETA:   0:03:19"
     ]
    },
    {
     "name": "stdout",
     "output_type": "stream",
     "text": [
      "epoch= 800 \t 0.013715466484427452\n"
     ]
    },
    {
     "name": "stderr",
     "output_type": "stream",
     "text": [
      "\u001b[38;2;247;255;0m 60%\u001b[39m \u001b[38;2;247;255;0m(900 of 1500)\u001b[39m |############         | Elapsed Time: 0:04:17 ETA:   0:02:51"
     ]
    },
    {
     "name": "stdout",
     "output_type": "stream",
     "text": [
      "epoch= 900 \t 0.009315947070717812\n"
     ]
    },
    {
     "name": "stderr",
     "output_type": "stream",
     "text": [
      "\u001b[38;2;228;255;0m 66%\u001b[39m \u001b[38;2;228;255;0m(1000 of 1500)\u001b[39m |#############       | Elapsed Time: 0:04:45 ETA:   0:02:22"
     ]
    },
    {
     "name": "stdout",
     "output_type": "stream",
     "text": [
      "epoch= 1000 \t 0.021698009222745895\n"
     ]
    },
    {
     "name": "stderr",
     "output_type": "stream",
     "text": [
      "\u001b[38;2;209;255;0m 73%\u001b[39m \u001b[38;2;209;255;0m(1100 of 1500)\u001b[39m |##############      | Elapsed Time: 0:05:15 ETA:   0:01:54"
     ]
    },
    {
     "name": "stdout",
     "output_type": "stream",
     "text": [
      "epoch= 1100 \t 0.011427035555243492\n"
     ]
    },
    {
     "name": "stderr",
     "output_type": "stream",
     "text": [
      "\u001b[38;2;190;255;0m 80%\u001b[39m \u001b[38;2;190;255;0m(1200 of 1500)\u001b[39m |################    | Elapsed Time: 0:05:44 ETA:   0:01:26"
     ]
    },
    {
     "name": "stdout",
     "output_type": "stream",
     "text": [
      "epoch= 1200 \t 0.011627738364040852\n"
     ]
    },
    {
     "name": "stderr",
     "output_type": "stream",
     "text": [
      "\u001b[38;2;172;255;0m 86%\u001b[39m \u001b[38;2;172;255;0m(1300 of 1500)\u001b[39m |#################   | Elapsed Time: 0:06:13 ETA:   0:00:57"
     ]
    },
    {
     "name": "stdout",
     "output_type": "stream",
     "text": [
      "epoch= 1300 \t 0.012468214146792889\n"
     ]
    },
    {
     "name": "stderr",
     "output_type": "stream",
     "text": [
      "\u001b[38;2;81;255;0m 93%\u001b[39m \u001b[38;2;81;255;0m(1400 of 1500)\u001b[39m |##################  | Elapsed Time: 0:06:41 ETA:   0:00:2835"
     ]
    },
    {
     "name": "stdout",
     "output_type": "stream",
     "text": [
      "epoch= 1400 \t 0.012990711256861687\n"
     ]
    },
    {
     "name": "stderr",
     "output_type": "stream",
     "text": [
      "\u001b[38;2;0;255;0m100%\u001b[39m \u001b[38;2;0;255;0m(1500 of 1500)\u001b[39m |####################| Elapsed Time: 0:07:10 Time:  0:07:1003\n",
      "\u001b[38;2;255;0;0m  0%\u001b[39m \u001b[38;2;255;0;0m(0 of 1500)\u001b[39m |                       | Elapsed Time: 0:00:00 ETA:  --:--:--"
     ]
    },
    {
     "name": "stdout",
     "output_type": "stream",
     "text": [
      "epoch= 0 \t 0.012899373658001423\n"
     ]
    },
    {
     "name": "stderr",
     "output_type": "stream",
     "text": [
      "\u001b[38;2;255;44;0m  6%\u001b[39m \u001b[38;2;255;44;0m(100 of 1500)\u001b[39m |#                    | Elapsed Time: 0:00:27 ETA:   0:06:29"
     ]
    },
    {
     "name": "stdout",
     "output_type": "stream",
     "text": [
      "epoch= 100 \t 0.00842258706688881\n"
     ]
    },
    {
     "name": "stderr",
     "output_type": "stream",
     "text": [
      "\u001b[38;2;255;92;0m 13%\u001b[39m \u001b[38;2;255;92;0m(200 of 1500)\u001b[39m |##                   | Elapsed Time: 0:00:54 ETA:   0:05:56"
     ]
    },
    {
     "name": "stdout",
     "output_type": "stream",
     "text": [
      "epoch= 200 \t 0.008910296484827995\n"
     ]
    },
    {
     "name": "stderr",
     "output_type": "stream",
     "text": [
      "\u001b[38;2;255;111;0m 20%\u001b[39m \u001b[38;2;255;111;0m(300 of 1500)\u001b[39m |####                 | Elapsed Time: 0:01:23 ETA:   0:05:33"
     ]
    },
    {
     "name": "stdout",
     "output_type": "stream",
     "text": [
      "epoch= 300 \t 0.007367424201220274\n"
     ]
    },
    {
     "name": "stderr",
     "output_type": "stream",
     "text": [
      "\u001b[38;2;255;129;0m 26%\u001b[39m \u001b[38;2;255;129;0m(400 of 1500)\u001b[39m |#####                | Elapsed Time: 0:01:52 ETA:   0:05:08"
     ]
    },
    {
     "name": "stdout",
     "output_type": "stream",
     "text": [
      "epoch= 400 \t 0.008590087294578552\n"
     ]
    },
    {
     "name": "stderr",
     "output_type": "stream",
     "text": [
      "\u001b[38;2;255;148;0m 33%\u001b[39m \u001b[38;2;255;148;0m(500 of 1500)\u001b[39m |#######              | Elapsed Time: 0:02:21 ETA:   0:04:42"
     ]
    },
    {
     "name": "stdout",
     "output_type": "stream",
     "text": [
      "epoch= 500 \t 0.008437516167759895\n"
     ]
    },
    {
     "name": "stderr",
     "output_type": "stream",
     "text": [
      "\u001b[38;2;255;167;0m 40%\u001b[39m \u001b[38;2;255;167;0m(600 of 1500)\u001b[39m |########             | Elapsed Time: 0:02:50 ETA:   0:04:15"
     ]
    },
    {
     "name": "stdout",
     "output_type": "stream",
     "text": [
      "epoch= 600 \t 0.008172295056283474\n"
     ]
    },
    {
     "name": "stderr",
     "output_type": "stream",
     "text": [
      "\u001b[38;2;255;196;0m 46%\u001b[39m \u001b[38;2;255;196;0m(700 of 1500)\u001b[39m |#########            | Elapsed Time: 0:03:19 ETA:   0:03:47"
     ]
    },
    {
     "name": "stdout",
     "output_type": "stream",
     "text": [
      "epoch= 700 \t 0.006293375976383686\n"
     ]
    },
    {
     "name": "stderr",
     "output_type": "stream",
     "text": [
      "\u001b[38;2;255;233;0m 53%\u001b[39m \u001b[38;2;255;233;0m(800 of 1500)\u001b[39m |###########          | Elapsed Time: 0:03:47 ETA:   0:03:19"
     ]
    },
    {
     "name": "stdout",
     "output_type": "stream",
     "text": [
      "epoch= 800 \t 0.004494260065257549\n"
     ]
    },
    {
     "name": "stderr",
     "output_type": "stream",
     "text": [
      "\u001b[38;2;247;255;0m 60%\u001b[39m \u001b[38;2;247;255;0m(900 of 1500)\u001b[39m |############         | Elapsed Time: 0:04:17 ETA:   0:02:51"
     ]
    },
    {
     "name": "stdout",
     "output_type": "stream",
     "text": [
      "epoch= 900 \t 0.006214088294655085\n"
     ]
    },
    {
     "name": "stderr",
     "output_type": "stream",
     "text": [
      "\u001b[38;2;228;255;0m 66%\u001b[39m \u001b[38;2;228;255;0m(1000 of 1500)\u001b[39m |#############       | Elapsed Time: 0:04:46 ETA:   0:02:23"
     ]
    },
    {
     "name": "stdout",
     "output_type": "stream",
     "text": [
      "epoch= 1000 \t 0.007591139059513807\n"
     ]
    },
    {
     "name": "stderr",
     "output_type": "stream",
     "text": [
      "\u001b[38;2;209;255;0m 73%\u001b[39m \u001b[38;2;209;255;0m(1100 of 1500)\u001b[39m |##############      | Elapsed Time: 0:05:13 ETA:   0:01:53"
     ]
    },
    {
     "name": "stdout",
     "output_type": "stream",
     "text": [
      "epoch= 1100 \t 0.007752414792776108\n"
     ]
    },
    {
     "name": "stderr",
     "output_type": "stream",
     "text": [
      "\u001b[38;2;190;255;0m 80%\u001b[39m \u001b[38;2;190;255;0m(1200 of 1500)\u001b[39m |################    | Elapsed Time: 0:05:40 ETA:   0:01:25"
     ]
    },
    {
     "name": "stdout",
     "output_type": "stream",
     "text": [
      "epoch= 1200 \t 0.006227972451597452\n"
     ]
    },
    {
     "name": "stderr",
     "output_type": "stream",
     "text": [
      "\u001b[38;2;172;255;0m 86%\u001b[39m \u001b[38;2;172;255;0m(1300 of 1500)\u001b[39m |#################   | Elapsed Time: 0:06:09 ETA:   0:00:56"
     ]
    },
    {
     "name": "stdout",
     "output_type": "stream",
     "text": [
      "epoch= 1300 \t 0.007906858809292316\n"
     ]
    },
    {
     "name": "stderr",
     "output_type": "stream",
     "text": [
      "\u001b[38;2;81;255;0m 93%\u001b[39m \u001b[38;2;81;255;0m(1400 of 1500)\u001b[39m |##################  | Elapsed Time: 0:06:37 ETA:   0:00:2834"
     ]
    },
    {
     "name": "stdout",
     "output_type": "stream",
     "text": [
      "epoch= 1400 \t 0.007837356999516487\n"
     ]
    },
    {
     "name": "stderr",
     "output_type": "stream",
     "text": [
      "\u001b[38;2;0;255;0m100%\u001b[39m \u001b[38;2;0;255;0m(1500 of 1500)\u001b[39m |####################| Elapsed Time: 0:07:05 Time:  0:07:0503\n",
      "\u001b[38;2;255;0;0m  0%\u001b[39m \u001b[38;2;255;0;0m(0 of 1500)\u001b[39m |                       | Elapsed Time: 0:00:00 ETA:  --:--:--"
     ]
    },
    {
     "name": "stdout",
     "output_type": "stream",
     "text": [
      "epoch= 0 \t 0.008307574316859245\n"
     ]
    },
    {
     "name": "stderr",
     "output_type": "stream",
     "text": [
      "\u001b[38;2;255;44;0m  6%\u001b[39m \u001b[38;2;255;44;0m(100 of 1500)\u001b[39m |#                    | Elapsed Time: 0:00:28 ETA:   0:06:42"
     ]
    },
    {
     "name": "stdout",
     "output_type": "stream",
     "text": [
      "epoch= 100 \t 0.009241241961717606\n"
     ]
    },
    {
     "name": "stderr",
     "output_type": "stream",
     "text": [
      "\u001b[38;2;255;92;0m 13%\u001b[39m \u001b[38;2;255;92;0m(200 of 1500)\u001b[39m |##                   | Elapsed Time: 0:00:57 ETA:   0:06:11"
     ]
    },
    {
     "name": "stdout",
     "output_type": "stream",
     "text": [
      "epoch= 200 \t 0.007151884958148003\n"
     ]
    },
    {
     "name": "stderr",
     "output_type": "stream",
     "text": [
      "\u001b[38;2;255;111;0m 20%\u001b[39m \u001b[38;2;255;111;0m(300 of 1500)\u001b[39m |####                 | Elapsed Time: 0:01:25 ETA:   0:05:43"
     ]
    },
    {
     "name": "stdout",
     "output_type": "stream",
     "text": [
      "epoch= 300 \t 0.007746253628283739\n"
     ]
    },
    {
     "name": "stderr",
     "output_type": "stream",
     "text": [
      "\u001b[38;2;255;129;0m 26%\u001b[39m \u001b[38;2;255;129;0m(400 of 1500)\u001b[39m |#####                | Elapsed Time: 0:01:54 ETA:   0:05:15"
     ]
    },
    {
     "name": "stdout",
     "output_type": "stream",
     "text": [
      "epoch= 400 \t 0.007275786250829697\n"
     ]
    },
    {
     "name": "stderr",
     "output_type": "stream",
     "text": [
      "\u001b[38;2;255;148;0m 33%\u001b[39m \u001b[38;2;255;148;0m(500 of 1500)\u001b[39m |#######              | Elapsed Time: 0:02:22 ETA:   0:04:44"
     ]
    },
    {
     "name": "stdout",
     "output_type": "stream",
     "text": [
      "epoch= 500 \t 0.007775722537189722\n"
     ]
    },
    {
     "name": "stderr",
     "output_type": "stream",
     "text": [
      "\u001b[38;2;255;167;0m 40%\u001b[39m \u001b[38;2;255;167;0m(600 of 1500)\u001b[39m |########             | Elapsed Time: 0:02:51 ETA:   0:04:17"
     ]
    },
    {
     "name": "stdout",
     "output_type": "stream",
     "text": [
      "epoch= 600 \t 0.009979918599128723\n"
     ]
    },
    {
     "name": "stderr",
     "output_type": "stream",
     "text": [
      "\u001b[38;2;255;196;0m 46%\u001b[39m \u001b[38;2;255;196;0m(700 of 1500)\u001b[39m |#########            | Elapsed Time: 0:03:19 ETA:   0:03:47"
     ]
    },
    {
     "name": "stdout",
     "output_type": "stream",
     "text": [
      "epoch= 700 \t 0.006378833670169115\n"
     ]
    },
    {
     "name": "stderr",
     "output_type": "stream",
     "text": [
      "\u001b[38;2;255;233;0m 53%\u001b[39m \u001b[38;2;255;233;0m(800 of 1500)\u001b[39m |###########          | Elapsed Time: 0:03:47 ETA:   0:03:18"
     ]
    },
    {
     "name": "stdout",
     "output_type": "stream",
     "text": [
      "epoch= 800 \t 0.009980371221899986\n"
     ]
    },
    {
     "name": "stderr",
     "output_type": "stream",
     "text": [
      "\u001b[38;2;247;255;0m 60%\u001b[39m \u001b[38;2;247;255;0m(900 of 1500)\u001b[39m |############         | Elapsed Time: 0:04:16 ETA:   0:02:50"
     ]
    },
    {
     "name": "stdout",
     "output_type": "stream",
     "text": [
      "epoch= 900 \t 0.008358994498848915\n"
     ]
    },
    {
     "name": "stderr",
     "output_type": "stream",
     "text": [
      "\u001b[38;2;228;255;0m 66%\u001b[39m \u001b[38;2;228;255;0m(1000 of 1500)\u001b[39m |#############       | Elapsed Time: 0:04:44 ETA:   0:02:22"
     ]
    },
    {
     "name": "stdout",
     "output_type": "stream",
     "text": [
      "epoch= 1000 \t 0.00655066454783082\n"
     ]
    },
    {
     "name": "stderr",
     "output_type": "stream",
     "text": [
      "\u001b[38;2;209;255;0m 73%\u001b[39m \u001b[38;2;209;255;0m(1100 of 1500)\u001b[39m |##############      | Elapsed Time: 0:05:13 ETA:   0:01:54"
     ]
    },
    {
     "name": "stdout",
     "output_type": "stream",
     "text": [
      "epoch= 1100 \t 0.009302664548158646\n"
     ]
    },
    {
     "name": "stderr",
     "output_type": "stream",
     "text": [
      "\u001b[38;2;190;255;0m 80%\u001b[39m \u001b[38;2;190;255;0m(1200 of 1500)\u001b[39m |################    | Elapsed Time: 0:05:42 ETA:   0:01:25"
     ]
    },
    {
     "name": "stdout",
     "output_type": "stream",
     "text": [
      "epoch= 1200 \t 0.006765901576727629\n"
     ]
    },
    {
     "name": "stderr",
     "output_type": "stream",
     "text": [
      "\u001b[38;2;172;255;0m 86%\u001b[39m \u001b[38;2;172;255;0m(1300 of 1500)\u001b[39m |#################   | Elapsed Time: 0:06:11 ETA:   0:00:57"
     ]
    },
    {
     "name": "stdout",
     "output_type": "stream",
     "text": [
      "epoch= 1300 \t 0.005937749054282904\n"
     ]
    },
    {
     "name": "stderr",
     "output_type": "stream",
     "text": [
      "\u001b[38;2;81;255;0m 93%\u001b[39m \u001b[38;2;81;255;0m(1400 of 1500)\u001b[39m |##################  | Elapsed Time: 0:06:40 ETA:   0:00:2835"
     ]
    },
    {
     "name": "stdout",
     "output_type": "stream",
     "text": [
      "epoch= 1400 \t 0.005831090267747641\n"
     ]
    },
    {
     "name": "stderr",
     "output_type": "stream",
     "text": [
      "\u001b[38;2;0;255;0m100%\u001b[39m \u001b[38;2;0;255;0m(1500 of 1500)\u001b[39m |####################| Elapsed Time: 0:07:09 Time:  0:07:0903\n"
     ]
    }
   ],
   "source": [
    "l1 = train_epoch(1500,func, 1e-2)\n",
    "l2 = train_epoch(1500,func, 1e-3)\n",
    "l3 = train_epoch(1500,func, 1e-5)\n",
    "l4 = train_epoch(1500,func, 1e-7)"
   ]
  },
  {
   "cell_type": "code",
   "execution_count": 8,
   "metadata": {
    "id": "_p9cQ8c2MaJb"
   },
   "outputs": [
    {
     "data": {
      "text/plain": [
       "<matplotlib.legend.Legend at 0x7f2cf3748610>"
      ]
     },
     "execution_count": 8,
     "metadata": {},
     "output_type": "execute_result"
    },
    {
     "data": {
      "image/png": "[encoded data removed]",
      "text/plain": [
       "<Figure size 1000x1000 with 1 Axes>"
      ]
     },
     "metadata": {},
     "output_type": "display_data"
    }
   ],
   "source": [
    "fig = plt.figure(figsize=(10,10))\n",
    "t2 = torch.linspace(0,10,1000).to(device)\n",
    "ax = fig.add_subplot(111)\n",
    "true_y02 = torch.Tensor([0.01]).to(device)\n",
    "with torch.no_grad():\n",
    "  y_true = tdf.odeint(true_model, true_y02, t2)\n",
    "  y_pred = tdf.odeint(func, true_y02, t2)\n",
    "ax.plot(t2.cpu(), y_true.cpu(), label=\"true\")\n",
    "ax.plot(t2.cpu(), y_pred.detach().numpy(), label=\"pred\", linestyle='--')\n",
    "ax.legend()"
   ]
  },
  {
   "cell_type": "code",
   "execution_count": 9,
   "metadata": {},
   "outputs": [],
   "source": [
    "torch.save(func.state_dict(), './logODE.pt')"
   ]
  },
  {
   "cell_type": "code",
   "execution_count": 8,
   "metadata": {},
   "outputs": [
    {
     "data": {
      "text/plain": [
       "<bound method Module.eval of ODEFunc(\n",
       "  (net): Sequential(\n",
       "    (0): Linear(in_features=1, out_features=50, bias=True)\n",
       "    (1): Tanh()\n",
       "    (2): Linear(in_features=50, out_features=50, bias=True)\n",
       "    (3): Tanh()\n",
       "    (4): Linear(in_features=50, out_features=1, bias=True)\n",
       "  )\n",
       ")>"
      ]
     },
     "execution_count": 8,
     "metadata": {},
     "output_type": "execute_result"
    }
   ],
   "source": [
    "t_model = ODEFunc()\n",
    "t_model.load_state_dict(torch.load('./logODE.pt'))\n",
    "t_model.eval"
   ]
  },
  {
   "cell_type": "code",
   "execution_count": 14,
   "metadata": {},
   "outputs": [
    {
     "data": {
      "text/plain": [
       "[<matplotlib.lines.Line2D at 0x319661bb0>]"
      ]
     },
     "execution_count": 14,
     "metadata": {},
     "output_type": "execute_result"
    },
    {
     "data": {
      "image/png": "[encoded data removed]",
      "text/plain": [
       "<Figure size 640x480 with 1 Axes>"
      ]
     },
     "metadata": {},
     "output_type": "display_data"
    }
   ],
   "source": [
    "tt = torch.linspace(0,10,1000).to(device)\n",
    "true_y0 = torch.Tensor([0.01]).to(device)\n",
    "y_pred = tdf.odeint(t_model, true_y0, tt)\n",
    "plt.plot(tt, y_pred.detach().numpy())"
   ]
  }
 ],
 "metadata": {
  "colab": {
   "machine_shape": "hm",
   "provenance": []
  },
  "kernelspec": {
   "display_name": "pytorch",
   "language": "python",
   "name": "python3"
  },
  "language_info": {
   "codemirror_mode": {
    "name": "ipython",
    "version": 3
   },
   "file_extension": ".py",
   "mimetype": "text/x-python",
   "name": "python",
   "nbconvert_exporter": "python",
   "pygments_lexer": "ipython3",
   "version": "3.12.2"
  }
 },
 "nbformat": 4,
 "nbformat_minor": 4
}
