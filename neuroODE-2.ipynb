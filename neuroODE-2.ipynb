{
  "nbformat": 4,
  "nbformat_minor": 0,
  "metadata": {
    "colab": {
      "provenance": [],
      "machine_shape": "hm"
    },
    "kernelspec": {
      "name": "python3",
      "display_name": "Python 3"
    },
    "language_info": {
      "name": "python"
    }
  },
  "cells": [
    {
      "cell_type": "code",
      "source": [
        "!pip3 uninstall --yes torch torchaudio torchvision torchtext torchdata --quiet\n",
        "!pip3 install torch torchaudio torchvision torchtext torchdata --quiet\n",
        "!pip install torchdiffeq --quiet"
      ],
      "metadata": {
        "id": "zf5--b3u_pZ_"
      },
      "execution_count": 1,
      "outputs": []
    },
    {
      "cell_type": "code",
      "source": [
        "import torch\n",
        "from torch import nn, optim, Tensor, tensor\n",
        "import torchdiffeq as tdf\n",
        "import matplotlib.pyplot as plt\n",
        "import numpy as np\n",
        "import progressbar\n",
        "from IPython.display import clear_output"
      ],
      "metadata": {
        "id": "B4ii08vi4A-a"
      },
      "execution_count": 2,
      "outputs": []
    },
    {
      "cell_type": "code",
      "source": [
        "device = \"cuda\" if torch.cuda.is_available() else \"cpu\"\n",
        "seed = 2024\n",
        "torch.manual_seed(seed)\n",
        "torch.cuda.manual_seed(seed)\n",
        "np.random.seed(seed)"
      ],
      "metadata": {
        "id": "L29FJQrC-A7k"
      },
      "execution_count": 3,
      "outputs": []
    },
    {
      "cell_type": "markdown",
      "source": [
        "## Logistic Function\n",
        "> The dynamical equation we want to learn is:\n",
        "\n",
        "$$\n",
        "\\dot{y} = r\\left(1-\\frac{y}{K}\\right)y\n",
        "$$\n",
        "where:\n",
        "- $y$ is the population size.\n",
        "- $r$ is the growth rate.\n",
        "- $K$ is the capacity of environment.\n",
        "\n",
        "## ODEFunc\n",
        "> The MLP consists of 3 layer, each activation function is `Tanh()`,\n",
        "\n",
        "\n",
        "\n"
      ],
      "metadata": {
        "id": "kUHa-D_E-j_Q"
      }
    },
    {
      "cell_type": "code",
      "source": [
        "t = torch.linspace(0,15,1500).to(device)\n",
        "\n",
        "class growth_model(nn.Module):\n",
        "  def __init__(self, *args):\n",
        "    super(growth_model, self).__init__()\n",
        "    self.K, self.r = args\n",
        "\n",
        "  def forward(self, t, y):\n",
        "    return self.r * y * (1 - y/self.K)\n",
        "\n",
        "\n",
        "true_y0 = torch.Tensor([0.001]).to(device)\n",
        "true_model = growth_model(100, 1.5).to(device)\n",
        "with torch.no_grad():\n",
        "  true_y = tdf.odeint(true_model, true_y0, t)\n",
        "\n",
        "class ODEFunc(nn.Module):\n",
        "  def __init__(self):\n",
        "    super(ODEFunc, self).__init__()\n",
        "    self.net = nn.Sequential(\n",
        "        nn.Linear(1,50),\n",
        "        nn.Tanh(),\n",
        "        nn.Linear(50,50),\n",
        "        nn.Tanh(),\n",
        "        nn.Linear(50,1)\n",
        "    )\n",
        "    for m in self.net.modules():\n",
        "      if isinstance(m, nn.Linear):\n",
        "        nn.init.normal_(m.weight, 0, 1)\n",
        "        nn.init.constant_(m.bias, 0)\n",
        "\n",
        "  def forward(self, t, y):\n",
        "    return self.net(y)\n",
        "\n",
        "\n",
        "\n",
        "def get_batch(batch_time, batch_num,total_time=len(t)):\n",
        "  s = torch.from_numpy(np.random.choice(np.arange(total_time - batch_time), batch_num, replace=False))\n",
        "  batch_t = t[:batch_time]\n",
        "  batch_y0 = true_y[s]\n",
        "  batch_y = torch.stack([true_y[s+i] for i in range(batch_time)], dim=0)\n",
        "\n",
        "  return batch_t.to(device), batch_y0.to(device), batch_y.to(device)\n",
        "\n",
        "  # batch_y0 =\n",
        "\n",
        "plt.plot(t.cpu(), true_y.cpu())\n",
        "\n",
        "# np.choice(np.arange(1000), )"
      ],
      "metadata": {
        "colab": {
          "base_uri": "https://localhost:8080/",
          "height": 447
        },
        "id": "zMxL06Tm36hS",
        "outputId": "9c72c85e-4464-409f-a419-c41817cfb031"
      },
      "execution_count": 4,
      "outputs": [
        {
          "output_type": "execute_result",
          "data": {
            "text/plain": [
              "[<matplotlib.lines.Line2D at 0x7b70798b9c90>]"
            ]
          },
          "metadata": {},
          "execution_count": 4
        },
        {
          "output_type": "display_data",
          "data": {
            "text/plain": [
              "<Figure size 640x480 with 1 Axes>"
            ],
            "image/png": "[encoded data removed]"
          },
          "metadata": {}
        }
      ]
    },
    {
      "cell_type": "code",
      "source": [
        "func = ODEFunc().to(device)\n",
        "\n",
        "def train_epoch(max_epoch, func,lr):\n",
        "  optimizer = optim.Adam(func.parameters(), lr=lr)\n",
        "  loss_list = []\n",
        "  # with progressbar.ProgressBar(max_value=max_epoch) as bar:\n",
        "  for epoch in range(max_epoch):\n",
        "    optimizer.zero_grad()\n",
        "    batch_t, batch_y0, batch_y = get_batch(20, 100)\n",
        "    pred_y = tdf.odeint_adjoint(func, batch_y0, batch_t)\n",
        "    loss = torch.mean(torch.abs(pred_y - batch_y))\n",
        "    loss.backward()\n",
        "    optimizer.step()\n",
        "    # bar.update(epoch)\n",
        "\n",
        "    if epoch % 100 == 0:\n",
        "    # loss_list.append(loss.item())\n",
        "      print(loss.item())\n",
        "\n",
        "  return loss_list\n",
        "\n",
        "  # tdf.odeint_adjoint(func,get_batch(20, 100)[1], t)\n",
        "\n",
        "# loss_list = train_epoch(1000)"
      ],
      "metadata": {
        "id": "bu-1rY2G8dCN"
      },
      "execution_count": 5,
      "outputs": []
    },
    {
      "cell_type": "code",
      "source": [
        "train_epoch(1500,func, 1e-2)\n",
        "train_epoch(1500,func, 1e-3)\n",
        "train_epoch(1500,func, 1e-5)\n",
        "train_epoch(1500,func, 1e-7)"
      ],
      "metadata": {
        "colab": {
          "base_uri": "https://localhost:8080/"
        },
        "id": "Ygckp7HVKHyH",
        "outputId": "d676ced9-d95e-4a9e-f023-bfcd94e98738"
      },
      "execution_count": null,
      "outputs": [
        {
          "output_type": "stream",
          "name": "stdout",
          "text": [
            "0.8322088122367859\n",
            "0.5571433901786804\n",
            "0.43312937021255493\n"
          ]
        }
      ]
    },
    {
      "cell_type": "code",
      "source": [
        "fig = plt.figure(figsize=(10,10))\n",
        "t2 = torch.linspace(0,10,1000).to(device)\n",
        "ax = fig.add_subplot(111)\n",
        "true_y02 = torch.Tensor([1]).to(device)\n",
        "with torch.no_grad():\n",
        "  y_true = tdf.odeint(true_model, true_y02, t2)\n",
        "  y_pred = tdf.odeint(func, true_y02, t2)\n",
        "ax.plot(t2.cpu(), y_true.cpu(), label=\"true\")\n",
        "ax.plot(t2.cpu(), y_pred.detach().numpy(), label=\"pred\", linestyle='--')\n",
        "ax.legend()"
      ],
      "metadata": {
        "id": "_p9cQ8c2MaJb"
      },
      "execution_count": null,
      "outputs": []
    }
  ]
}