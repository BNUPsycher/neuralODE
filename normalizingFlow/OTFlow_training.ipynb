{
  "cells": [
    {
      "cell_type": "code",
      "execution_count": null,
      "metadata": {
        "colab": {
          "base_uri": "https://localhost:8080/"
        },
        "id": "LkVPNSZ6l3PZ",
        "outputId": "46197e7b-7b6b-4e57-e075-54fa9cd080b7"
      },
      "outputs": [
        {
          "name": "stdout",
          "output_type": "stream",
          "text": [
            "\u001b[33mWARNING: Skipping torchdata as it is not installed.\u001b[0m\u001b[33m\n",
            "\u001b[2K     \u001b[90m━━━━━━━━━━━━━━━━━━━━━━━━━━━━━━━━━━━━━━━━\u001b[0m \u001b[32m779.1/779.1 MB\u001b[0m \u001b[31m1.5 MB/s\u001b[0m eta \u001b[36m0:00:00\u001b[0m\n",
            "\u001b[2K     \u001b[90m━━━━━━━━━━━━━━━━━━━━━━━━━━━━━━━━━━━━━━━━\u001b[0m \u001b[32m3.3/3.3 MB\u001b[0m \u001b[31m86.9 MB/s\u001b[0m eta \u001b[36m0:00:00\u001b[0m\n",
            "\u001b[2K     \u001b[90m━━━━━━━━━━━━━━━━━━━━━━━━━━━━━━━━━━━━━━━━\u001b[0m \u001b[32m7.0/7.0 MB\u001b[0m \u001b[31m68.2 MB/s\u001b[0m eta \u001b[36m0:00:00\u001b[0m\n",
            "\u001b[2K     \u001b[90m━━━━━━━━━━━━━━━━━━━━━━━━━━━━━━━━━━━━━━━━\u001b[0m \u001b[32m2.0/2.0 MB\u001b[0m \u001b[31m90.1 MB/s\u001b[0m eta \u001b[36m0:00:00\u001b[0m\n",
            "\u001b[2K     \u001b[90m━━━━━━━━━━━━━━━━━━━━━━━━━━━━━━━━━━━━━━━━\u001b[0m \u001b[32m4.7/4.7 MB\u001b[0m \u001b[31m63.9 MB/s\u001b[0m eta \u001b[36m0:00:00\u001b[0m\n",
            "\u001b[2K     \u001b[90m━━━━━━━━━━━━━━━━━━━━━━━━━━━━━━━━━━━━━━━━\u001b[0m \u001b[32m168.1/168.1 MB\u001b[0m \u001b[31m6.4 MB/s\u001b[0m eta \u001b[36m0:00:00\u001b[0m\n",
            "\u001b[2K     \u001b[90m━━━━━━━━━━━━━━━━━━━━━━━━━━━━━━━━━━━━━━━━\u001b[0m \u001b[32m21.3/21.3 MB\u001b[0m \u001b[31m26.0 MB/s\u001b[0m eta \u001b[36m0:00:00\u001b[0m\n",
            "\u001b[2K     \u001b[90m━━━━━━━━━━━━━━━━━━━━━━━━━━━━━━━━━━━━━━━━\u001b[0m \u001b[32m58.1/58.1 kB\u001b[0m \u001b[31m1.1 MB/s\u001b[0m eta \u001b[36m0:00:00\u001b[0m\n",
            "\u001b[2K     \u001b[90m━━━━━━━━━━━━━━━━━━━━━━━━━━━━━━━━━━━━━━━━\u001b[0m \u001b[32m802.3/802.3 kB\u001b[0m \u001b[31m6.4 MB/s\u001b[0m eta \u001b[36m0:00:00\u001b[0m\n",
            "\u001b[2K     \u001b[90m━━━━━━━━━━━━━━━━━━━━━━━━━━━━━━━━━━━━━━━━\u001b[0m \u001b[32m61.2/61.2 kB\u001b[0m \u001b[31m7.7 MB/s\u001b[0m eta \u001b[36m0:00:00\u001b[0m\n",
            "\u001b[2K     \u001b[90m━━━━━━━━━━━━━━━━━━━━━━━━━━━━━━━━━━━━━━━━\u001b[0m \u001b[32m868.8/868.8 kB\u001b[0m \u001b[31m34.6 MB/s\u001b[0m eta \u001b[36m0:00:00\u001b[0m\n",
            "\u001b[2K     \u001b[90m━━━━━━━━━━━━━━━━━━━━━━━━━━━━━━━━━━━━━━━━\u001b[0m \u001b[32m1.6/1.6 MB\u001b[0m \u001b[31m31.8 MB/s\u001b[0m eta \u001b[36m0:00:00\u001b[0m\n",
            "\u001b[?25h"
          ]
        }
      ],
      "source": [
        "!pip3 uninstall --yes torch torchaudio torchvision torchtext torchdata --quiet\n",
        "!pip3 install torch torchaudio torchvision torchtext torchdata --quiet\n",
        "!pip3 install torchdiffeq torchdyn --quiet"
      ]
    },
    {
      "cell_type": "code",
      "execution_count": null,
      "metadata": {
        "id": "rMdWz5YKjm2S"
      },
      "outputs": [],
      "source": [
        "import os\n",
        "import shutil"
      ]
    },
    {
      "cell_type": "markdown",
      "metadata": {},
      "source": [
        "# Create folders to store the training results\n",
        "- mount google drive"
      ]
    },
    {
      "cell_type": "code",
      "execution_count": null,
      "metadata": {},
      "outputs": [
        {
          "name": "stdout",
          "output_type": "stream",
          "text": [
            "Drive already mounted at /content/drive; to attempt to forcibly remount, call drive.mount(\"/content/drive\", force_remount=True).\n"
          ]
        }
      ],
      "source": [
        "from google.colab import drive\n",
        "drive.mount('/content/drive')"
      ]
    },
    {
      "cell_type": "markdown",
      "metadata": {},
      "source": [
        "- create folders to store the training results."
      ]
    },
    {
      "cell_type": "code",
      "execution_count": null,
      "metadata": {
        "colab": {
          "base_uri": "https://localhost:8080/"
        },
        "id": "cdBlu9U0kFEM",
        "outputId": "19c66216-47c2-4ed6-8f16-969917a97bd8"
      },
      "outputs": [
        {
          "data": {
            "text/plain": [
              "True"
            ]
          },
          "execution_count": 2,
          "metadata": {},
          "output_type": "execute_result"
        }
      ],
      "source": [
        "p2colab = '/content/drive/MyDrive/Colab Notebooks'\n",
        "utils = \"utils\"\n",
        "\n",
        "os.path.isdir(os.path.join(p2colab, utils)) or os.mkdir(os.path.join(p2colab, utils))\n",
        "os.path.isdir(\"./utils\") or shutil.copytree(os.path.join(p2colab, utils), './utils')\n",
        "\n",
        "os.path.isdir(os.path.join(p2colab, \"OT-Flow\")) or os.mkdir(os.path.join(p2colab, \"OT-Flow\"))\n",
        "os.path.isfile(\"./Phi.py\") or shutil.copy2(os.path.join(p2colab, \"Phi.py\"), \"./\")\n",
        "\n",
        "p2gaussians = os.path.join(p2colab, \"OT-Flow\", \"gaussians\")\n",
        "os.path.isdir(p2gaussians) or os.mkdir(p2gaussians)\n",
        "\n",
        "p2moons = os.path.join(p2colab, \"OT-Flow\", \"moons\")\n",
        "os.path.isdir(p2moons) or os.mkdir(p2moons)\n",
        "\n",
        "p2spheres = os.path.join(p2colab, \"OT-Flow\", \"spheres\")\n",
        "os.path.isdir(p2spheres) or os.mkdir(p2spheres)"
      ]
    },
    {
      "cell_type": "markdown",
      "metadata": {
        "id": "VSuDBvB95Qbp"
      },
      "source": [
        "# Import packages\n",
        "- import `Phi` object from `Phi`\n",
        "- import `utils` folders' `CheckPoint` and `ToyModels`\n",
        "  - `CheckPoint`: a module used to store checkpoint into `.pth` file.\n",
        "  - `ToyModels`: a module consists of three functions, used to generate the toy model datasets."
      ]
    },
    {
      "cell_type": "code",
      "execution_count": null,
      "metadata": {
        "id": "pErsihSDm9C9"
      },
      "outputs": [],
      "source": [
        "from Phi import *\n",
        "import torch\n",
        "from torch import nn, optim\n",
        "import torch.nn.functional as F\n",
        "from torchdiffeq import odeint, odeint_adjoint\n",
        "from utils.ToyModels import *\n",
        "from utils.CheckPoint import *\n",
        "import matplotlib.pyplot as plt\n",
        "import progressbar\n",
        "device = torch.device(\n",
        "    'cuda' if torch.cuda.is_available() else 'cpu'\n",
        ")"
      ]
    },
    {
      "cell_type": "markdown",
      "metadata": {
        "id": "kbZ_8QAdnlJh"
      },
      "source": [
        "# Define Objects\n",
        "- `OdeFunc`: The ODE equation group we want to learn.\n",
        "- `compute_loss`: the function used to calculate the loss."
      ]
    },
    {
      "cell_type": "code",
      "execution_count": null,
      "metadata": {
        "id": "bdS_eRPMnoTG"
      },
      "outputs": [],
      "source": [
        "class OdeFunc(nn.Module):\n",
        "    \"\"\"\n",
        "        Generate the object of ODE function we want to learn.\n",
        "    :param d: int: dimension of the input\n",
        "    :param m: int: dimension of the hidden layer\n",
        "    :param nTh: int: number of the thetas\n",
        "    \"\"\"\n",
        "    def __init__(self, d: int, m:int, nTh: int):\n",
        "        super(OdeFunc, self).__init__()\n",
        "        self.d = d\n",
        "        self.m = m\n",
        "        self.nTh = nTh\n",
        "        self.net = Phi(self.nTh, self.m, self.d).to(device)\n",
        "\n",
        "    \"\"\"\n",
        "        Forward pass of the ODE function\n",
        "    :param t: torch.Tensor: time\n",
        "    :param x: torch.Tensor: input in dimension d + 3, the augment vector [z, l, L, R] (where z is the d dimension random variable.)\n",
        "    :return: torch.Tensor: output of the ODE function\n",
        "    \"\"\"\n",
        "    def forward(self, t, x):\n",
        "        x = x[:, :self.d]\n",
        "        z = torch.cat((x, t*torch.ones(x.shape[0],1).to(device)), 1)\n",
        "        gradPhi, trH = self.net.trHess(z)\n",
        "        dx = - gradPhi[:,:self.d]\n",
        "        dl = - trH.unsqueeze(1)\n",
        "        dv = 0.5 * torch.sum(torch.pow(dx, 2), 1, keepdim=True)\n",
        "        dr = torch.abs(-gradPhi[:,-1].unsqueeze(1) +  dv)\n",
        "        return torch.cat((dx, dl, dv, dr), 1)\n",
        "\n",
        "# Define the loss function according to the eq. (6) in our report\n",
        "def compute_loss(x: torch.Tensor, alpha=torch.tensor([1.0,1.0,1.0])):\n",
        "    d = x.shape[1] - 3\n",
        "    C = 1/2 * torch.sum(torch.pow(x[:, :d], 2), dim=1) - x[:, -3] + torch.log(torch.tensor([2]) * torch.pi).to(device)\n",
        "    L = torch.mean(x[:,-2])\n",
        "    R = torch.mean(x[:,-1])\n",
        "    return torch.mean(C) * alpha[0] + L * alpha[1] + R * alpha[2]"
      ]
    },
    {
      "cell_type": "markdown",
      "metadata": {},
      "source": [
        "- Create a dataframe used to store the iterations and the loss."
      ]
    },
    {
      "cell_type": "code",
      "execution_count": null,
      "metadata": {
        "id": "z704HiWfp4__"
      },
      "outputs": [],
      "source": [
        "import pandas as pd\n",
        "df = pd.DataFrame(columns=[\"itr\", \"loss\"])"
      ]
    },
    {
      "cell_type": "code",
      "execution_count": null,
      "metadata": {
        "id": "3_P08WK_ejE7"
      },
      "outputs": [],
      "source": [
        "d = 2\n",
        "m = 64\n",
        "OTFlow = OdeFunc(d,m, 2).to(device)     # Initialize the ODE function\n",
        "optimizer = optim.Adam(OTFlow.parameters(), lr=1e-3)\n",
        "t0 = 0\n",
        "t1 = 1"
      ]
    },
    {
      "cell_type": "markdown",
      "metadata": {
        "id": "y9-A5mFM5m3S"
      },
      "source": [
        "## Gaussians distribution"
      ]
    },
    {
      "cell_type": "code",
      "execution_count": null,
      "metadata": {
        "id": "LjDAdCdg5wkZ"
      },
      "outputs": [],
      "source": [
        "# Define the function to generate batches for model training\n",
        "def get_batch(n_sample):\n",
        "    x, _ = generate_gaussians_data(n_samples=n_sample)\n",
        "    return x"
      ]
    },
    {
      "cell_type": "code",
      "execution_count": null,
      "metadata": {
        "colab": {
          "base_uri": "https://localhost:8080/",
          "height": 258
        },
        "id": "ZsgldEIfxRN4",
        "outputId": "50ffe962-3158-4282-9230-a85eb41c69aa"
      },
      "outputs": [
        {
          "ename": "NameError",
          "evalue": "name 'p2gaussians' is not defined",
          "output_type": "error",
          "traceback": [
            "\u001b[0;31m---------------------------------------------------------------------------\u001b[0m",
            "\u001b[0;31mNameError\u001b[0m                                 Traceback (most recent call last)",
            "\u001b[0;32m<ipython-input-7-0a468c08c373>\u001b[0m in \u001b[0;36m<cell line: 1>\u001b[0;34m()\u001b[0m\n\u001b[0;32m----> 1\u001b[0;31m \u001b[0mcheckpoint\u001b[0m \u001b[0;34m=\u001b[0m \u001b[0mtorch\u001b[0m\u001b[0;34m.\u001b[0m\u001b[0mload\u001b[0m\u001b[0;34m(\u001b[0m\u001b[0mos\u001b[0m\u001b[0;34m.\u001b[0m\u001b[0mpath\u001b[0m\u001b[0;34m.\u001b[0m\u001b[0mjoin\u001b[0m\u001b[0;34m(\u001b[0m\u001b[0mp2gaussians\u001b[0m\u001b[0;34m,\u001b[0m \u001b[0;34m\"gaussians11800.pth\"\u001b[0m\u001b[0;34m)\u001b[0m\u001b[0;34m)\u001b[0m\u001b[0;34m\u001b[0m\u001b[0;34m\u001b[0m\u001b[0m\n\u001b[0m\u001b[1;32m      2\u001b[0m \u001b[0mcheckpoint\u001b[0m\u001b[0;34m[\u001b[0m\u001b[0;34m'epoch'\u001b[0m\u001b[0;34m]\u001b[0m\u001b[0;34m\u001b[0m\u001b[0;34m\u001b[0m\u001b[0m\n\u001b[1;32m      3\u001b[0m \u001b[0mOTFlow\u001b[0m\u001b[0;34m.\u001b[0m\u001b[0mload_state_dict\u001b[0m\u001b[0;34m(\u001b[0m\u001b[0mcheckpoint\u001b[0m\u001b[0;34m[\u001b[0m\u001b[0;34m'model_state_dict'\u001b[0m\u001b[0;34m]\u001b[0m\u001b[0;34m)\u001b[0m\u001b[0;34m\u001b[0m\u001b[0;34m\u001b[0m\u001b[0m\n\u001b[1;32m      4\u001b[0m \u001b[0mOTFlow\u001b[0m\u001b[0;34m.\u001b[0m\u001b[0meval\u001b[0m\u001b[0;34m(\u001b[0m\u001b[0;34m)\u001b[0m\u001b[0;34m\u001b[0m\u001b[0;34m\u001b[0m\u001b[0m\n\u001b[1;32m      5\u001b[0m \u001b[0moptimizer\u001b[0m\u001b[0;34m.\u001b[0m\u001b[0mload_state_dict\u001b[0m\u001b[0;34m(\u001b[0m\u001b[0mcheckpoint\u001b[0m\u001b[0;34m[\u001b[0m\u001b[0;34m'optimizer_state_dict'\u001b[0m\u001b[0;34m]\u001b[0m\u001b[0;34m)\u001b[0m\u001b[0;34m\u001b[0m\u001b[0;34m\u001b[0m\u001b[0m\n",
            "\u001b[0;31mNameError\u001b[0m: name 'p2gaussians' is not defined"
          ]
        }
      ],
      "source": [
        "checkpoint = torch.load(os.path.join(p2gaussians, \"gaussians11800.pth\"))\n",
        "checkpoint['epoch']\n",
        "OTFlow.load_state_dict(checkpoint['model_state_dict'])\n",
        "OTFlow.eval()\n",
        "optimizer.load_state_dict(checkpoint['optimizer_state_dict'])"
      ]
    },
    {
      "cell_type": "code",
      "execution_count": null,
      "metadata": {
        "colab": {
          "base_uri": "https://localhost:8080/"
        },
        "id": "tMpnpn6OnnWR",
        "outputId": "c2a27f85-e95a-4459-a0f4-3eda2b644d7a"
      },
      "outputs": [
        {
          "name": "stderr",
          "output_type": "stream",
          "text": [
            "100% (200 of 200) |######################| Elapsed Time: 0:00:46 Time:  0:00:46\n"
          ]
        }
      ],
      "source": [
        "# Training the model\n",
        "for itr in progressbar.progressbar(range(checkpoint['epoch']+1, checkpoint['epoch'] + 200+1)):\n",
        "  optimizer.zero_grad()\n",
        "  x = get_batch(12000).to(device)\n",
        "  x = F.pad(x,[0,3,0,0],  value=0).to(device)\n",
        "  t = torch.tensor([t0,t1], dtype=torch.float32).to(device)\n",
        "  _,x0 = odeint(OTFlow, x, t,\n",
        "              method='dopri5',\n",
        "              atol=1e-5,\n",
        "              rtol=1e-5)\n",
        "  loss = compute_loss(x0)\n",
        "  loss.backward()\n",
        "  optimizer.step()\n",
        "  df.loc[len(df)] = [itr, loss.item()]\n",
        "  # print(x0)\n",
        "\n",
        "  if itr % 200 == 0:\n",
        "    df.to_csv(os.path.join(p2gaussians, \"gaussians{}.csv\".format(itr)))\n",
        "    df = pd.DataFrame(columns=[\"itr\", \"loss\"])\n",
        "    save_checkpoint(OTFlow, itr, optimizer, loss, os.path.join(p2gaussians, \"gaussians{}.pth\".format(itr)))\n",
        "\n",
        "\n"
      ]
    },
    {
      "cell_type": "markdown",
      "metadata": {
        "id": "N-tUoPGW5qJu"
      },
      "source": [
        "## Moons distribution"
      ]
    },
    {
      "cell_type": "code",
      "execution_count": null,
      "metadata": {
        "id": "ZuevREwDpRO_"
      },
      "outputs": [],
      "source": [
        "d = 2\n",
        "m = 64\n",
        "OTFlow = OdeFunc(d,m, 2).to(device)\n",
        "optimizer = optim.Adam(OTFlow.parameters(), lr=1e-3)\n",
        "t0 = 0\n",
        "t1 = 1\n",
        "df = pd.DataFrame(columns=[\"itr\", \"loss\"])\n",
        "def get_batch(n_sample):\n",
        "  x, _ = generate_moon_data(n_samples=n_sample, noise=2e-1)\n",
        "  return x"
      ]
    },
    {
      "cell_type": "code",
      "execution_count": null,
      "metadata": {
        "id": "IRrP9rEwS5_z"
      },
      "outputs": [],
      "source": [
        "checkpoint = torch.load(os.path.join(p2moons, \"moons64200.pth\"))\n",
        "checkpoint['epoch']\n",
        "OTFlow.load_state_dict(checkpoint['model_state_dict'])\n",
        "OTFlow.eval()\n",
        "optimizer.load_state_dict(checkpoint['optimizer_state_dict'])"
      ]
    },
    {
      "cell_type": "code",
      "execution_count": null,
      "metadata": {
        "colab": {
          "base_uri": "https://localhost:8080/",
          "height": 258
        },
        "id": "ZCWUjq-s6Ebx",
        "outputId": "b04be116-d0d8-40b8-9ae9-e901f29e3689"
      },
      "outputs": [
        {
          "ename": "NameError",
          "evalue": "name 'checkpoint' is not defined",
          "output_type": "error",
          "traceback": [
            "\u001b[0;31m---------------------------------------------------------------------------\u001b[0m",
            "\u001b[0;31mNameError\u001b[0m                                 Traceback (most recent call last)",
            "\u001b[0;32m<ipython-input-15-6d615800cdaf>\u001b[0m in \u001b[0;36m<cell line: 1>\u001b[0;34m()\u001b[0m\n\u001b[0;32m----> 1\u001b[0;31m \u001b[0;32mfor\u001b[0m \u001b[0mitr\u001b[0m \u001b[0;32min\u001b[0m \u001b[0mprogressbar\u001b[0m\u001b[0;34m.\u001b[0m\u001b[0mprogressbar\u001b[0m\u001b[0;34m(\u001b[0m\u001b[0mrange\u001b[0m\u001b[0;34m(\u001b[0m\u001b[0mcheckpoint\u001b[0m\u001b[0;34m[\u001b[0m\u001b[0;34m'epoch'\u001b[0m\u001b[0;34m]\u001b[0m \u001b[0;34m+\u001b[0m \u001b[0;36m1\u001b[0m\u001b[0;34m,\u001b[0m \u001b[0mcheckpoint\u001b[0m\u001b[0;34m[\u001b[0m\u001b[0;34m'epoch'\u001b[0m\u001b[0;34m]\u001b[0m \u001b[0;34m+\u001b[0m \u001b[0;36m20000\u001b[0m\u001b[0;34m+\u001b[0m\u001b[0;36m1\u001b[0m\u001b[0;34m)\u001b[0m\u001b[0;34m)\u001b[0m\u001b[0;34m:\u001b[0m\u001b[0;34m\u001b[0m\u001b[0;34m\u001b[0m\u001b[0m\n\u001b[0m\u001b[1;32m      2\u001b[0m   \u001b[0moptimizer\u001b[0m\u001b[0;34m.\u001b[0m\u001b[0mzero_grad\u001b[0m\u001b[0;34m(\u001b[0m\u001b[0;34m)\u001b[0m\u001b[0;34m\u001b[0m\u001b[0;34m\u001b[0m\u001b[0m\n\u001b[1;32m      3\u001b[0m   \u001b[0mx\u001b[0m \u001b[0;34m=\u001b[0m \u001b[0mget_batch\u001b[0m\u001b[0;34m(\u001b[0m\u001b[0;36m20000\u001b[0m\u001b[0;34m)\u001b[0m\u001b[0;34m.\u001b[0m\u001b[0mto\u001b[0m\u001b[0;34m(\u001b[0m\u001b[0mdevice\u001b[0m\u001b[0;34m)\u001b[0m\u001b[0;34m\u001b[0m\u001b[0;34m\u001b[0m\u001b[0m\n\u001b[1;32m      4\u001b[0m   \u001b[0mx\u001b[0m \u001b[0;34m=\u001b[0m \u001b[0mF\u001b[0m\u001b[0;34m.\u001b[0m\u001b[0mpad\u001b[0m\u001b[0;34m(\u001b[0m\u001b[0mx\u001b[0m\u001b[0;34m,\u001b[0m\u001b[0;34m[\u001b[0m\u001b[0;36m0\u001b[0m\u001b[0;34m,\u001b[0m\u001b[0;36m3\u001b[0m\u001b[0;34m,\u001b[0m\u001b[0;36m0\u001b[0m\u001b[0;34m,\u001b[0m\u001b[0;36m0\u001b[0m\u001b[0;34m]\u001b[0m\u001b[0;34m,\u001b[0m  \u001b[0mvalue\u001b[0m\u001b[0;34m=\u001b[0m\u001b[0;36m0\u001b[0m\u001b[0;34m)\u001b[0m\u001b[0;34m.\u001b[0m\u001b[0mto\u001b[0m\u001b[0;34m(\u001b[0m\u001b[0mdevice\u001b[0m\u001b[0;34m)\u001b[0m\u001b[0;34m\u001b[0m\u001b[0;34m\u001b[0m\u001b[0m\n\u001b[1;32m      5\u001b[0m   \u001b[0mt\u001b[0m \u001b[0;34m=\u001b[0m \u001b[0mtorch\u001b[0m\u001b[0;34m.\u001b[0m\u001b[0mtensor\u001b[0m\u001b[0;34m(\u001b[0m\u001b[0;34m[\u001b[0m\u001b[0mt0\u001b[0m\u001b[0;34m,\u001b[0m\u001b[0mt1\u001b[0m\u001b[0;34m]\u001b[0m\u001b[0;34m,\u001b[0m \u001b[0mdtype\u001b[0m\u001b[0;34m=\u001b[0m\u001b[0mtorch\u001b[0m\u001b[0;34m.\u001b[0m\u001b[0mfloat32\u001b[0m\u001b[0;34m)\u001b[0m\u001b[0;34m.\u001b[0m\u001b[0mto\u001b[0m\u001b[0;34m(\u001b[0m\u001b[0mdevice\u001b[0m\u001b[0;34m)\u001b[0m\u001b[0;34m\u001b[0m\u001b[0;34m\u001b[0m\u001b[0m\n",
            "\u001b[0;31mNameError\u001b[0m: name 'checkpoint' is not defined"
          ]
        }
      ],
      "source": [
        "for itr in progressbar.progressbar(range(checkpoint['epoch'] + 1, checkpoint['epoch'] + 20000+1)):\n",
        "  optimizer.zero_grad()\n",
        "  x = get_batch(20000).to(device)\n",
        "  x = F.pad(x,[0,3,0,0],  value=0).to(device)\n",
        "  t = torch.tensor([t0,t1], dtype=torch.float32).to(device)\n",
        "  _,x0 = odeint(OTFlow, x, t,\n",
        "              method='dopri5',\n",
        "              atol=1e-5,\n",
        "              rtol=1e-5)\n",
        "  loss = compute_loss(x0)\n",
        "  loss.backward()\n",
        "  optimizer.step()\n",
        "  df.loc[len(df)] = [itr, loss.item()]\n",
        "  # print(x0)\n",
        "\n",
        "  if itr % 200 == 0:\n",
        "    df.to_csv(os.path.join(p2moons, \"moons{}.csv\".format(itr)))\n",
        "    df = pd.DataFrame(columns=[\"itr\", \"loss\"])\n",
        "    save_checkpoint(OTFlow, itr, optimizer, loss, os.path.join(p2moons, \"moons{}.pth\".format(itr)))\n",
        "\n"
      ]
    },
    {
      "cell_type": "markdown",
      "metadata": {
        "id": "QsoXtbKeBjl_"
      },
      "source": [
        "# Spheres"
      ]
    },
    {
      "cell_type": "code",
      "execution_count": null,
      "metadata": {
        "id": "Ip736ki-Bhbh"
      },
      "outputs": [],
      "source": [
        "d = 2\n",
        "m = 64\n",
        "OTFlow = OdeFunc(d,m, 2).to(device)\n",
        "optimizer = optim.Adam(OTFlow.parameters(), lr=1e-3)\n",
        "t0 = 0\n",
        "t1 = 1\n",
        "df = pd.DataFrame(columns=[\"itr\", \"loss\"])\n",
        "def get_batch(n_sample):\n",
        "  x, _ = generate_spheres_data(n_sample, noise=8e-2)\n",
        "  return x"
      ]
    },
    {
      "cell_type": "code",
      "execution_count": null,
      "metadata": {
        "colab": {
          "base_uri": "https://localhost:8080/",
          "height": 385
        },
        "id": "twowffkv6SrG",
        "outputId": "349315fa-0420-455d-c657-ee9abc9e5186"
      },
      "outputs": [
        {
          "data": {
            "text/plain": [
              "<matplotlib.collections.PathCollection at 0x786bcb898940>"
            ]
          },
          "execution_count": 11,
          "metadata": {},
          "output_type": "execute_result"
        },
        {
          "data": {
            "image/png": "[encoded data removed]",
            "text/plain": [
              "<Figure size 400x400 with 1 Axes>"
            ]
          },
          "metadata": {},
          "output_type": "display_data"
        }
      ],
      "source": [
        "fig = plt.figure(figsize=(4,4))\n",
        "plt.scatter(*get_batch(1000).T, s =1)"
      ]
    },
    {
      "cell_type": "code",
      "execution_count": null,
      "metadata": {
        "colab": {
          "base_uri": "https://localhost:8080/",
          "height": 258
        },
        "id": "8fS9JRAIDBlh",
        "outputId": "a31a36e0-8c6d-453f-8c18-561954ca6540"
      },
      "outputs": [
        {
          "ename": "NameError",
          "evalue": "name 'torch' is not defined",
          "output_type": "error",
          "traceback": [
            "\u001b[0;31m---------------------------------------------------------------------------\u001b[0m",
            "\u001b[0;31mNameError\u001b[0m                                 Traceback (most recent call last)",
            "\u001b[0;32m<ipython-input-1-249c5fc9c6d1>\u001b[0m in \u001b[0;36m<cell line: 1>\u001b[0;34m()\u001b[0m\n\u001b[0;32m----> 1\u001b[0;31m \u001b[0mcheckpoint\u001b[0m \u001b[0;34m=\u001b[0m \u001b[0mtorch\u001b[0m\u001b[0;34m.\u001b[0m\u001b[0mload\u001b[0m\u001b[0;34m(\u001b[0m\u001b[0mos\u001b[0m\u001b[0;34m.\u001b[0m\u001b[0mpath\u001b[0m\u001b[0;34m.\u001b[0m\u001b[0mjoin\u001b[0m\u001b[0;34m(\u001b[0m\u001b[0mp2spheres\u001b[0m\u001b[0;34m,\u001b[0m \u001b[0;34m\"spheres3200.pth\"\u001b[0m\u001b[0;34m)\u001b[0m\u001b[0;34m)\u001b[0m\u001b[0;34m\u001b[0m\u001b[0;34m\u001b[0m\u001b[0m\n\u001b[0m\u001b[1;32m      2\u001b[0m \u001b[0mcheckpoint\u001b[0m\u001b[0;34m[\u001b[0m\u001b[0;34m'epoch'\u001b[0m\u001b[0;34m]\u001b[0m\u001b[0;34m\u001b[0m\u001b[0;34m\u001b[0m\u001b[0m\n\u001b[1;32m      3\u001b[0m \u001b[0mOTFlow\u001b[0m\u001b[0;34m.\u001b[0m\u001b[0mload_state_dict\u001b[0m\u001b[0;34m(\u001b[0m\u001b[0mcheckpoint\u001b[0m\u001b[0;34m[\u001b[0m\u001b[0;34m'model_state_dict'\u001b[0m\u001b[0;34m]\u001b[0m\u001b[0;34m)\u001b[0m\u001b[0;34m\u001b[0m\u001b[0;34m\u001b[0m\u001b[0m\n\u001b[1;32m      4\u001b[0m \u001b[0mOTFlow\u001b[0m\u001b[0;34m.\u001b[0m\u001b[0meval\u001b[0m\u001b[0;34m(\u001b[0m\u001b[0;34m)\u001b[0m\u001b[0;34m\u001b[0m\u001b[0;34m\u001b[0m\u001b[0m\n\u001b[1;32m      5\u001b[0m \u001b[0moptimizer\u001b[0m\u001b[0;34m.\u001b[0m\u001b[0mload_state_dict\u001b[0m\u001b[0;34m(\u001b[0m\u001b[0mcheckpoint\u001b[0m\u001b[0;34m[\u001b[0m\u001b[0;34m'optimizer_state_dict'\u001b[0m\u001b[0;34m]\u001b[0m\u001b[0;34m)\u001b[0m\u001b[0;34m\u001b[0m\u001b[0;34m\u001b[0m\u001b[0m\n",
            "\u001b[0;31mNameError\u001b[0m: name 'torch' is not defined"
          ]
        }
      ],
      "source": [
        "checkpoint = torch.load(os.path.join(p2spheres, \"spheres3200.pth\"))\n",
        "checkpoint['epoch']\n",
        "OTFlow.load_state_dict(checkpoint['model_state_dict'])\n",
        "OTFlow.eval()\n",
        "optimizer.load_state_dict(checkpoint['optimizer_state_dict'])"
      ]
    },
    {
      "cell_type": "code",
      "execution_count": null,
      "metadata": {
        "colab": {
          "background_save": true,
          "base_uri": "https://localhost:8080/"
        },
        "id": "0SorU1RCDNoU",
        "outputId": "c729fec7-ea15-48a6-8d1e-44881f496cf5"
      },
      "outputs": [
        {
          "name": "stderr",
          "output_type": "stream",
          "text": [
            " 74% (14817 of 20000) |#############     | Elapsed Time: 5:00:07 ETA:   1:42:18"
          ]
        }
      ],
      "source": [
        "for itr in progressbar.progressbar(range(1, 20000+1)):\n",
        "  optimizer.zero_grad()\n",
        "  x = get_batch(20000).to(device)\n",
        "  x = F.pad(x,[0,3,0,0],  value=0).to(device)\n",
        "  t = torch.tensor([t0,t1], dtype=torch.float32).to(device)\n",
        "  _,x0 = odeint(OTFlow, x, t,\n",
        "              method='dopri5',\n",
        "              atol=1e-5,\n",
        "              rtol=1e-5)\n",
        "  loss = compute_loss(x0, alpha=torch.tensor([2,1,1]))\n",
        "  loss.backward()\n",
        "  optimizer.step()\n",
        "  df.loc[len(df)] = [itr, loss.item()]\n",
        "  # print(x0)\n",
        "\n",
        "  if itr % 100 == 0:\n",
        "    df.to_csv(os.path.join(p2spheres, \"spheres{}.csv\".format(itr)))\n",
        "    df = pd.DataFrame(columns=[\"itr\", \"loss\"])\n",
        "    save_checkpoint(OTFlow, itr, optimizer, loss, os.path.join(p2spheres, \"spheres{}.pth\".format(itr)))\n"
      ]
    },
    {
      "cell_type": "markdown",
      "metadata": {
        "id": "triCRa4nDMDB"
      },
      "source": []
    }
  ],
  "metadata": {
    "accelerator": "GPU",
    "colab": {
      "gpuType": "T4",
      "provenance": []
    },
    "kernelspec": {
      "display_name": "Python 3",
      "name": "python3"
    },
    "language_info": {
      "name": "python"
    }
  },
  "nbformat": 4,
  "nbformat_minor": 0
}
