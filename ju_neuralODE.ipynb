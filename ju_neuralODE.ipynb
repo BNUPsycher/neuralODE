{
 "cells": [
  {
   "cell_type": "code",
   "execution_count": 2,
   "metadata": {},
   "outputs": [
    {
     "name": "stderr",
     "output_type": "stream",
     "text": [
      "WARNING: Method definition setup(Optimisers.AbstractRule, ComponentArrays.ComponentArray{T, N, A, Axes} where Axes<:Tuple{Vararg{ComponentArrays.AbstractAxis{IdxMap} where IdxMap}} where A<:AbstractArray{T, N} where N where T) in module ComponentArraysOptimisersExt at /Users/zhengpanpan/.julia/packages/ComponentArrays/E31RX/ext/ComponentArraysOptimisersExt.jl:7 overwritten in module LuxComponentArraysExt at /Users/zhengpanpan/.julia/packages/Lux/5xfGO/ext/LuxComponentArraysExt.jl:19.\n",
      "ERROR: Method overwriting is not permitted during Module precompilation. Use `__precompile__(false)` to opt-out of precompilation.\n"
     ]
    }
   ],
   "source": [
    "using ComponentArrays, Lux, DiffEqFlux, OrdinaryDiffEq, Optimization,\n",
    "    OptimizationOptimJL, OptimizationOptimisers, Random, Plots"
   ]
  },
  {
   "cell_type": "code",
   "execution_count": 8,
   "metadata": {},
   "outputs": [
    {
     "data": {
      "text/plain": [
       "2×30 Matrix{Float64}:\n",
       " 2.0  1.94651   1.74178  1.23834  0.577135  …  1.40964   1.37132   1.28952\n",
       " 0.0  0.798833  1.46473  1.80877  1.86465      0.466229  0.744667  0.987543"
      ]
     },
     "metadata": {},
     "output_type": "display_data"
    }
   ],
   "source": [
    "rng = Random.default_rng()\n",
    "u0 = Float64[2.0; 0.0]\n",
    "datasize = 30\n",
    "tspan = (0.0f0, 1.5f0)\n",
    "tsteps = range(tspan..., length=datasize)\n",
    "\n",
    "function tureODEfunc(du, u, p, t)\n",
    "    true_A = [-0.1 2.0; -2.0 -0.1]\n",
    "    du .= ((u .^ 3)' * true_A)'\n",
    "end\n",
    "\n",
    "prob_trueode = ODEProblem(tureODEfunc, u0, tspan)\n",
    "ode_data = Array(solve(prob_trueode, Tsit5(),  saveat = tsteps))"
   ]
  },
  {
   "cell_type": "code",
   "execution_count": 11,
   "metadata": {},
   "outputs": [
    {
     "data": {
      "text/plain": [
       "NeuralODE(\n",
       "    model = Chain(\n",
       "        layer_1 = WrappedFunction(#13),\n",
       "        layer_2 = Dense(2 => 50, tanh_fast),  \u001b[90m# 150 parameters\u001b[39m\n",
       "        layer_3 = Dense(50 => 2),       \u001b[90m# 102 parameters\u001b[39m\n",
       "    ),\n",
       ") \u001b[90m        # Total: \u001b[39m252 parameters,\n",
       "\u001b[90m          #        plus \u001b[39m0 states."
      ]
     },
     "metadata": {},
     "output_type": "display_data"
    }
   ],
   "source": [
    "dudt2 = Chain(x -> x .^ 3, Dense(2,50, tanh), Dense(50,2))\n",
    "p, st = Lux.setup(rng, dudt2)\n",
    "prob_neuralode = NeuralODE(dudt2, tspan, Tsit5(), saveat=tsteps)\n"
   ]
  }
 ],
 "metadata": {
  "kernelspec": {
   "display_name": "Julia 1.10.2",
   "language": "julia",
   "name": "julia-1.10"
  },
  "language_info": {
   "file_extension": ".jl",
   "mimetype": "application/julia",
   "name": "julia",
   "version": "1.10.2"
  }
 },
 "nbformat": 4,
 "nbformat_minor": 2
}
